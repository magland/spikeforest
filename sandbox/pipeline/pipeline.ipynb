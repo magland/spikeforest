{
 "cells": [
  {
   "cell_type": "code",
   "execution_count": null,
   "metadata": {},
   "outputs": [],
   "source": [
    "%load_ext autoreload\n",
    "%autoreload 2\n",
    "\n",
    "import spikeextractors as si\n",
    "import spikewidgets as sw\n",
    "import spiketoolkit as st\n",
    "\n",
    "import os\n",
    "\n",
    "from kbucket import client as kb\n",
    "from pairio import client as pa\n",
    "\n",
    "#from spikeforest_sort import spikeforest_sort, mountainsort4b_params, \n",
    "\n",
    "import spikeforest as sf"
   ]
  },
  {
   "cell_type": "code",
   "execution_count": null,
   "metadata": {},
   "outputs": [],
   "source": [
    "connect_to_remote=False\n",
    "\n",
    "if connect_to_remote:\n",
    "    if os.getenv('SPIKEFOREST_PAIRIO_TOKEN'):\n",
    "        pa.setConfig(user='spikeforest',token=os.getenv('SPIKEFOREST_PAIRIO_TOKEN'))\n",
    "\n",
    "    if os.getenv('SPIKEFOREST_KBUCKET_TOKEN'):\n",
    "        print('Setting upload server to magland.spikeforest')\n",
    "        kb.setConfig(upload_share_id='magland.spikeforest',upload_token=os.getenv('SPIKEFOREST_KBUCKET_TOKEN'))\n",
    "        kb.testUpload()"
   ]
  },
  {
   "cell_type": "code",
   "execution_count": null,
   "metadata": {},
   "outputs": [],
   "source": [
    "pa.setConfig(collections=['spikeforest'])\n",
    "kb.setConfig(share_ids=['magland.spikeforest'])"
   ]
  },
  {
   "cell_type": "code",
   "execution_count": null,
   "metadata": {},
   "outputs": [],
   "source": [
    "sorters=[]\n",
    "ms4_params=dict(\n",
    "    detect_sign=-1,\n",
    "    adjacency_radius=-1,\n",
    "    detect_threshold=3\n",
    ")\n",
    "sorters.append(dict(\n",
    "    name='MountainSort4',\n",
    "    processor=sf.MountainSort4,\n",
    "    params=ms4_params\n",
    "))"
   ]
  },
  {
   "cell_type": "code",
   "execution_count": null,
   "metadata": {},
   "outputs": [],
   "source": [
    "datasets=[]\n",
    "study_dir='kbucket://b5ecdf1474c5/spikeforest/gen_synth_datasets/datasets_noise10_K20'\n",
    "study_name='synth_jfm_noise10_K20'\n",
    "dd=kb.readDir(study_dir)\n",
    "for dsname in dd['dirs']:\n",
    "    dsdir='{}/{}'.format(study_dir,dsname)\n",
    "    datasets.append(dict(\n",
    "        name=dsname,\n",
    "        dataset_dir=dsdir\n",
    "    ))\n",
    "#datasets=[datasets[0]]"
   ]
  },
  {
   "cell_type": "code",
   "execution_count": null,
   "metadata": {},
   "outputs": [],
   "source": [
    "from matplotlib import pyplot as plt\n",
    "from PIL import Image\n",
    "\n",
    "def save_plot(jpg_fname,quality=20):\n",
    "    plt.savefig(jpg_fname+'.png')\n",
    "    plt.close()\n",
    "    im=Image.open(jpg_fname+'.png').convert('RGB')\n",
    "    os.remove(jpg_fname+'.png')\n",
    "    im.save(jpg_fname,quality=quality)\n",
    "\n",
    "def prepareSortingSummary(result):\n",
    "    ret={'plots':{}}\n",
    "    recording=si.MdaRecordingExtractor(dataset_directory=result['dataset_dir'])\n",
    "    sorting=si.MdaSortingExtractor(firings_file=kb.realizeFile(result['firings']))\n",
    "    sw.UnitWaveformsWidget(recording=recording,sorting=sorting).plot()\n",
    "    save_plot('unit_waveforms.jpg')\n",
    "    fname=kb.uploadFile('unit_waveforms.jpg')\n",
    "    ret['plots']['unit_waveforms']=fname\n",
    "    return ret"
   ]
  },
  {
   "cell_type": "code",
   "execution_count": null,
   "metadata": {},
   "outputs": [],
   "source": [
    "def prepareComparisonWithTruth(result):\n",
    "    ret={}\n",
    "    sorting=si.MdaSortingExtractor(firings_file=kb.realizeFile(result['firings'])) # for now we need realizeFile -- later this will not be necessary, once we are using kbucket in spikeextractors\n",
    "    sorting_true=si.MdaSortingExtractor(firings_file=result['firings_true'])\n",
    "    SC=st.comparison.SortingComparison(sorting_true,sorting)\n",
    "    ret['table']=sw.SortingComparisonTable(comparison=SC).getDataframe().transpose().to_dict()\n",
    "    return ret"
   ]
  },
  {
   "cell_type": "code",
   "execution_count": null,
   "metadata": {},
   "outputs": [],
   "source": [
    "results=[]\n",
    "for dataset in datasets:\n",
    "    for sorter in sorters:\n",
    "        print('SORTER:{}     DATASET: {}'.format(sorter['name'],dataset['name']))\n",
    "        result=sf.sortDataset(\n",
    "            sorter=sorter,\n",
    "            dataset=dataset,\n",
    "            _force_run=False\n",
    "        )\n",
    "        result['comparison_with_truth']=prepareComparisonWithTruth(result)\n",
    "        result['summary']=prepareSortingSummary(result)\n",
    "        results.append(result)\n",
    "    #break\n",
    "print('Saving results object...')\n",
    "kb.saveObject(results,key=dict(name='spikeforest_results',study_name=study_name))"
   ]
  },
  {
   "cell_type": "code",
   "execution_count": null,
   "metadata": {},
   "outputs": [],
   "source": []
  }
 ],
 "metadata": {
  "kernelspec": {
   "display_name": "Python 3",
   "language": "python",
   "name": "python3"
  },
  "language_info": {
   "codemirror_mode": {
    "name": "ipython",
    "version": 3
   },
   "file_extension": ".py",
   "mimetype": "text/x-python",
   "name": "python",
   "nbconvert_exporter": "python",
   "pygments_lexer": "ipython3",
   "version": "3.6.6"
  }
 },
 "nbformat": 4,
 "nbformat_minor": 2
}
