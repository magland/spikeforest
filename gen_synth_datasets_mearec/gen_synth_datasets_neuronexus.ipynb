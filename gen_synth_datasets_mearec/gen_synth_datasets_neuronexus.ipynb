{
 "cells": [
  {
   "cell_type": "code",
   "execution_count": 1,
   "metadata": {},
   "outputs": [],
   "source": [
    "# For development purposes, reload imported modules when source changes\n",
    "%load_ext autoreload\n",
    "%autoreload 2\n",
    "\n",
    "import spikeextractors as si\n",
    "import spikewidgets as sw\n",
    "import os, sys\n",
    "import numpy as np\n",
    "\n",
    "from mountainlab_pytools import mlproc as mlp\n",
    "from mountainlab_pytools import mdaio\n",
    "\n",
    "from gen_synth_datasets import gen_synth_datasets\n",
    "\n",
    "import h5py\n",
    "import json\n",
    "from matplotlib import pyplot as plt"
   ]
  },
  {
   "cell_type": "code",
   "execution_count": 16,
   "metadata": {},
   "outputs": [],
   "source": [
    "#templates='kbucket://b5ecdf1474c5/MEArec/templates/templates_30_Neuronexus-32.h5'\n",
    "#templates='kbucket://b5ecdf1474c5/MEArec/templates/templates_30_Neuronexus-32.h5'\n",
    "#templates='kbucket://b5ecdf1474c5/MEArec/templates/templates_30_tetrode_mea.h5'\n",
    "templates='/mnt/home/jjun/ceph/groundtruth/mearec_synth/neuronexus/templates_30_Neuronexus-32.h5'\n",
    "    \n",
    "num_datasets=10\n",
    "v_K = [10, 20, 40] # list (vector: \"v_\") of K\n",
    "v_noise = [10, 20]\n",
    "v_nChans = [32]\n",
    "dataset_path = '/mnt/home/jjun/ceph/groundtruth/mearec_synth/neuronexus'\n",
    "\n",
    "#output \n",
    "v_outputdir = [] # stores name of recordingset containing multiple recordings \n",
    "v_datasets = []\n",
    "\n",
    "ds0=dict(\n",
    "    duration=600,\n",
    "    templates=templates,\n",
    "    f_exc=2, f_inh=7,\n",
    "    min_rate=0.5,\n",
    "    st_exc=1, st_inh=3,\n",
    "    channel_ids=None\n",
    ")\n",
    "# datasets_noise10_K20_C8\n",
    "for noise in v_noise:\n",
    "    for K in v_K:\n",
    "        for nChans in v_nChans:\n",
    "            outputdir1 = '{}/datasets_noise{}_K{}_C{}'.format(dataset_path, noise, K, nChans)\n",
    "            v_outputdir.append(outputdir1)\n",
    "            datasets = []\n",
    "            for iDataset in range(1,num_datasets+1):\n",
    "                ds=dict(        \n",
    "                    name = '{}_synth'.format('{0:03d}'.format(iDataset)),\n",
    "                    seed = iDataset,\n",
    "                    n_exc = int(K/2), n_inh=K-int(K/2),\n",
    "                    noise_level = noise\n",
    "                )\n",
    "                for key in ds0:\n",
    "                    ds[key]=ds0[key]\n",
    "                datasets.append(ds)\n",
    "            v_datasets.append(datasets)\n",
    "    \n",
    "#print('DATASETS:')\n",
    "#for ds in datasets:\n",
    "#    print(ds['name'])"
   ]
  },
  {
   "cell_type": "code",
   "execution_count": 17,
   "metadata": {},
   "outputs": [
    {
     "name": "stdout",
     "output_type": "stream",
     "text": [
      "['/mnt/home/jjun/ceph/groundtruth/mearec_synth/neuronexus/datasets_noise10_K10_C32', '/mnt/home/jjun/ceph/groundtruth/mearec_synth/neuronexus/datasets_noise10_K20_C32', '/mnt/home/jjun/ceph/groundtruth/mearec_synth/neuronexus/datasets_noise10_K40_C32', '/mnt/home/jjun/ceph/groundtruth/mearec_synth/neuronexus/datasets_noise20_K10_C32', '/mnt/home/jjun/ceph/groundtruth/mearec_synth/neuronexus/datasets_noise20_K20_C32', '/mnt/home/jjun/ceph/groundtruth/mearec_synth/neuronexus/datasets_noise20_K40_C32']\n"
     ]
    }
   ],
   "source": [
    "print(v_outputdir)"
   ]
  },
  {
   "cell_type": "code",
   "execution_count": null,
   "metadata": {},
   "outputs": [
    {
     "name": "stdout",
     "output_type": "stream",
     "text": [
      "001_synth\n"
     ]
    },
    {
     "name": "stderr",
     "output_type": "stream",
     "text": [
      "/mnt/home/jjun/conda/envs/spikes2/lib/python3.7/site-packages/scipy/signal/signaltools.py:2383: FutureWarning: Using a non-tuple sequence for multidimensional indexing is deprecated; use `arr[tuple(seq)]` instead of `arr[seq]`. In the future this will be interpreted as an array index, `arr[np.array(seq)]`, which will result either in an error or a different result.\n",
      "  return y[keep]\n"
     ]
    },
    {
     "name": "stdout",
     "output_type": "stream",
     "text": [
      "002_synth\n",
      "003_synth\n",
      "004_synth\n",
      "005_synth\n",
      "006_synth\n",
      "007_synth\n",
      "008_synth\n",
      "009_synth\n",
      "010_synth\n",
      "Done.\n",
      "001_synth\n",
      "002_synth\n",
      "003_synth\n",
      "004_synth\n",
      "005_synth\n",
      "006_synth\n",
      "007_synth\n",
      "008_synth\n"
     ]
    }
   ],
   "source": [
    "for datasets, outputdir in zip(v_datasets, v_outputdir):\n",
    "    gen_synth_datasets(datasets,outdir=outputdir,samplerate=30000)"
   ]
  },
  {
   "cell_type": "code",
   "execution_count": null,
   "metadata": {},
   "outputs": [],
   "source": [
    "IX=si.MdaRecordingExtractor(dataset_directory=v_outputdir[0]+'/001_synth')\n",
    "OX=si.MdaSortingExtractor(firings_file=v_outputdir[0]+'/001_synth/firings_true.mda')"
   ]
  },
  {
   "cell_type": "code",
   "execution_count": null,
   "metadata": {},
   "outputs": [],
   "source": [
    "sw.TimeseriesWidget(recording=IX).display()"
   ]
  },
  {
   "cell_type": "code",
   "execution_count": null,
   "metadata": {},
   "outputs": [],
   "source": [
    "sw.UnitWaveformsWidget(recording=IX, sorting=OX, snippet_len=100,height=10).plot()"
   ]
  },
  {
   "cell_type": "code",
   "execution_count": null,
   "metadata": {},
   "outputs": [],
   "source": []
  }
 ],
 "metadata": {
  "kernelspec": {
   "display_name": "Python 3",
   "language": "python",
   "name": "python3"
  },
  "language_info": {
   "codemirror_mode": {
    "name": "ipython",
    "version": 3
   },
   "file_extension": ".py",
   "mimetype": "text/x-python",
   "name": "python",
   "nbconvert_exporter": "python",
   "pygments_lexer": "ipython3",
   "version": "3.7.0"
  }
 },
 "nbformat": 4,
 "nbformat_minor": 2
}
