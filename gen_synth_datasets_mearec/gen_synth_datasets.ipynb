{
 "cells": [
  {
   "cell_type": "code",
   "execution_count": null,
   "metadata": {},
   "outputs": [],
   "source": [
    "# For development purposes, reload imported modules when source changes\n",
    "%load_ext autoreload\n",
    "%autoreload 2\n",
    "\n",
    "import spikeextractors as si\n",
    "import spikewidgets as sw\n",
    "import os, sys\n",
    "import numpy as np\n",
    "\n",
    "from mountainlab_pytools import mlproc as mlp\n",
    "from mountainlab_pytools import mdaio\n",
    "\n",
    "from gen_synth_datasets import gen_synth_datasets\n",
    "\n",
    "import h5py\n",
    "import json\n",
    "\n",
    "from matplotlib import pyplot as plt"
   ]
  },
  {
   "cell_type": "code",
   "execution_count": null,
   "metadata": {},
   "outputs": [],
   "source": [
    "#templates='kbucket://b5ecdf1474c5/MEArec/templates/templates_30_Neuronexus-32.h5'\n",
    "templates='kbucket://b5ecdf1474c5/MEArec/templates/templates_30_tetrode_mea.h5'\n",
    "K=8\n",
    "\n",
    "datasets=[]\n",
    "ds0=dict(\n",
    "    duration=600,\n",
    "    noise_level=0,\n",
    "    templates=templates,\n",
    "    n_exc=int(K/2), n_inh=K-int(K/2),\n",
    "    f_exc=2, f_inh=7,\n",
    "    min_rate=0.5,\n",
    "    st_exc=1, st_inh=3,\n",
    "    channel_ids=None\n",
    ")\n",
    "num_datasets=1\n",
    "\n",
    "for j in range(1,num_datasets+1):\n",
    "    ds=dict(        \n",
    "        name='{}_synth'.format('{0:03d}'.format(j)),\n",
    "        seed=j\n",
    "    )\n",
    "    for key in ds0:\n",
    "        ds[key]=ds0[key]\n",
    "    datasets.append(ds)\n",
    "    \n",
    "print('DATASETS:')\n",
    "for ds in datasets:\n",
    "    print(ds['name'])"
   ]
  },
  {
   "cell_type": "code",
   "execution_count": null,
   "metadata": {},
   "outputs": [],
   "source": [
    " gen_synth_datasets(datasets,outdir='datasets')"
   ]
  },
  {
   "cell_type": "code",
   "execution_count": null,
   "metadata": {},
   "outputs": [],
   "source": [
    "IX=si.MdaInputExtractor(dataset_directory='datasets/001_synth')\n",
    "OX=si.MdaOutputExtractor(firings_file='datasets/001_synth/firings_true.mda')"
   ]
  },
  {
   "cell_type": "code",
   "execution_count": null,
   "metadata": {},
   "outputs": [],
   "source": [
    "sw.TimeseriesWidget(input_extractor=IX).display()"
   ]
  },
  {
   "cell_type": "code",
   "execution_count": null,
   "metadata": {},
   "outputs": [],
   "source": [
    "sw.UnitWaveformsWidget(input_extractor=IX,output_extractor=OX,snippet_len=100,height=10).plot()"
   ]
  },
  {
   "cell_type": "code",
   "execution_count": null,
   "metadata": {},
   "outputs": [],
   "source": []
  }
 ],
 "metadata": {
  "kernelspec": {
   "display_name": "Python 3",
   "language": "python",
   "name": "python3"
  },
  "language_info": {
   "codemirror_mode": {
    "name": "ipython",
    "version": 3
   },
   "file_extension": ".py",
   "mimetype": "text/x-python",
   "name": "python",
   "nbconvert_exporter": "python",
   "pygments_lexer": "ipython3",
   "version": "3.6.6"
  }
 },
 "nbformat": 4,
 "nbformat_minor": 2
}
