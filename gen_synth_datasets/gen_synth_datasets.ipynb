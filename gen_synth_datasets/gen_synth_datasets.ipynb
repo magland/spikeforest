{
 "cells": [
  {
   "cell_type": "code",
   "execution_count": null,
   "metadata": {},
   "outputs": [],
   "source": [
    "# For development purposes, reload imported modules when source changes\n",
    "%load_ext autoreload\n",
    "%autoreload 2\n",
    "\n",
    "import spikeextractors as si\n",
    "import spikewidgets as sw\n",
    "import os, sys\n",
    "import numpy as np\n",
    "\n",
    "from mountainlab_pytools import mlproc as mlp\n",
    "from mountainlab_pytools import mdaio\n",
    "\n",
    "from gen_synth_datasets import gen_synth_datasets\n",
    "\n",
    "import h5py\n",
    "import json\n",
    "\n",
    "from matplotlib import pyplot as plt"
   ]
  },
  {
   "cell_type": "code",
   "execution_count": null,
   "metadata": {},
   "outputs": [],
   "source": [
    "K=15\n",
    "\n",
    "datasets=[]\n",
    "ds0=dict(\n",
    "    duration=600,\n",
    "    noise_level=10,\n",
    "    K=K\n",
    ")\n",
    "num_datasets=3\n",
    "\n",
    "for j in range(1,num_datasets+1):\n",
    "    ds=dict(        \n",
    "        name='{}_synth'.format('{0:03d}'.format(j)),\n",
    "        duration=60,\n",
    "        noise_level=10,\n",
    "        seed=j\n",
    "    )\n",
    "    for key in ds0:\n",
    "        ds[key]=ds0[key]\n",
    "    datasets.append(ds)\n",
    "    \n",
    "print('DATASETS:')\n",
    "print([ds['name'] for ds in datasets])"
   ]
  },
  {
   "cell_type": "code",
   "execution_count": null,
   "metadata": {},
   "outputs": [],
   "source": [
    " gen_synth_datasets(datasets,outdir='datasets')"
   ]
  },
  {
   "cell_type": "code",
   "execution_count": null,
   "metadata": {},
   "outputs": [],
   "source": [
    "IXs = [si.MdaInputExtractor(dataset_directory='datasets/'+ds['name']) for ds in datasets]\n",
    "OXs = [si.MdaOutputExtractor(firings_file='datasets/'+ds['name']+'/firings_true.mda') for ds in datasets]\n",
    "IX=si.MultiInputExtractor(input_extractors=IXs, epoch_names=['A','B','C'])\n",
    "OX=si.MultiOutputExtractor(input_extractors=IXs, output_extractors=OXs, epoch_names=['A','B','C'])\n",
    "sw.TimeseriesWidget(input_extractor=IX).display()"
   ]
  },
  {
   "cell_type": "code",
   "execution_count": null,
   "metadata": {},
   "outputs": [],
   "source": [
    "sw.TimeseriesWidget(input_extractor=IXs[1]).display()\n",
    "sw.TimeseriesWidget(input_extractor=IX.getEpoch('B')).display()"
   ]
  },
  {
   "cell_type": "code",
   "execution_count": null,
   "metadata": {},
   "outputs": [],
   "source": [
    "IX_sub=si.SubInputExtractor(parent_extractor=IX,start_frame=10000,end_frame=IX.getNumFrames())\n",
    "OX_sub=si.SubOutputExtractor(parent_extractor=OX,start_frame=10000,end_frame=IX.getNumFrames())\n",
    "sw.UnitWaveformsWidget(input_extractor=IX_sub,output_extractor=OX_sub,snippet_len=100).plot()"
   ]
  },
  {
   "cell_type": "code",
   "execution_count": null,
   "metadata": {},
   "outputs": [],
   "source": []
  }
 ],
 "metadata": {
  "kernelspec": {
   "display_name": "Python 3",
   "language": "python",
   "name": "python3"
  },
  "language_info": {
   "codemirror_mode": {
    "name": "ipython",
    "version": 3
   },
   "file_extension": ".py",
   "mimetype": "text/x-python",
   "name": "python",
   "nbconvert_exporter": "python",
   "pygments_lexer": "ipython3",
   "version": "3.6.6"
  }
 },
 "nbformat": 4,
 "nbformat_minor": 2
}
